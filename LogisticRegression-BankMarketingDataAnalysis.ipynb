{
 "cells": [
  {
   "cell_type": "markdown",
   "metadata": {},
   "source": [
    "                            \n",
    "           # Bank Marketing Data Analysis- Using Logistic Regression Algorithm"
   ]
  },
  {
   "cell_type": "markdown",
   "metadata": {},
   "source": [
    "Read the Bank marketing data csv file and display the total record in file"
   ]
  },
  {
   "cell_type": "code",
   "execution_count": 1,
   "metadata": {},
   "outputs": [
    {
     "data": {
      "text/plain": [
       "41188"
      ]
     },
     "execution_count": 1,
     "metadata": {},
     "output_type": "execute_result"
    }
   ],
   "source": [
    "bankDF=spark.read.format(\"csv\").option(\"header\",\"true\").option(\"inferSchema\",\"true\")\\\n",
    ".load(\"/home/farjana/Data/bank-additional-full.csv\")\n",
    "bankDF.count()"
   ]
  },
  {
   "cell_type": "markdown",
   "metadata": {},
   "source": [
    "Import pyspark and python functions"
   ]
  },
  {
   "cell_type": "code",
   "execution_count": 2,
   "metadata": {
    "collapsed": true
   },
   "outputs": [],
   "source": [
    "import pandas as pd\n",
    "from pyspark.sql.functions import *\n",
    "import numpy as np\n",
    "from pyspark.ml.feature import RFormula\n",
    "from pyspark.ml.classification import LogisticRegression\n",
    "from pyspark.ml.feature import VectorAssembler\n",
    "from pyspark.ml.feature import StringIndexer\n",
    "from pyspark.ml.stat import Correlation\n",
    "import matplotlib.pyplot as plt\n",
    "%matplotlib inline"
   ]
  },
  {
   "cell_type": "markdown",
   "metadata": {},
   "source": [
    "Create indexer for columns"
   ]
  },
  {
   "cell_type": "code",
   "execution_count": 3,
   "metadata": {
    "collapsed": true
   },
   "outputs": [],
   "source": [
    "housingIndxr=StringIndexer().setInputCol(\"housing\").setOutputCol(\"housingIndx\")\n",
    "loanIndxr=StringIndexer().setInputCol(\"loan\").setOutputCol(\"personalloanIndx\")\n",
    "termdepositIndxr=StringIndexer().setInputCol(\"y\").setOutputCol(\"termdepositIndx\")\n",
    "maritalIndxr=StringIndexer().setInputCol(\"marital\").setOutputCol(\"maritalIndx\")\n",
    "defaultIndxr=StringIndexer().setInputCol(\"default\").setOutputCol(\"defaultIndx\")\n",
    "bankDF1=housingIndxr.fit(bankDF).transform(bankDF)\n",
    "bankDF2=loanIndxr.fit(bankDF1).transform(bankDF1)\n",
    "bankDF3=termdepositIndxr.fit(bankDF2).transform(bankDF2)\n",
    "bankDF4=maritalIndxr.fit(bankDF3).transform(bankDF3)\n",
    "bankDF5=defaultIndxr.fit(bankDF4).transform(bankDF4)\n",
    "bankfinalDF=bankDF5.drop(\"emp.var.rate\",\"cons.price.idx\",\"cons.conf.idx\",\"nr.employed\")\n"
   ]
  },
  {
   "cell_type": "markdown",
   "metadata": {},
   "source": [
    "                Summary statistics for numeric variables"
   ]
  },
  {
   "cell_type": "code",
   "execution_count": 4,
   "metadata": {},
   "outputs": [
    {
     "data": {
      "text/html": [
       "<div>\n",
       "<table border=\"1\" class=\"dataframe\">\n",
       "  <thead>\n",
       "    <tr style=\"text-align: right;\">\n",
       "      <th></th>\n",
       "      <th>0</th>\n",
       "      <th>1</th>\n",
       "      <th>2</th>\n",
       "      <th>3</th>\n",
       "      <th>4</th>\n",
       "    </tr>\n",
       "  </thead>\n",
       "  <tbody>\n",
       "    <tr>\n",
       "      <th>summary</th>\n",
       "      <td>count</td>\n",
       "      <td>mean</td>\n",
       "      <td>stddev</td>\n",
       "      <td>min</td>\n",
       "      <td>max</td>\n",
       "    </tr>\n",
       "    <tr>\n",
       "      <th>age</th>\n",
       "      <td>41188</td>\n",
       "      <td>40.02406040594348</td>\n",
       "      <td>10.421249980934045</td>\n",
       "      <td>17</td>\n",
       "      <td>98</td>\n",
       "    </tr>\n",
       "    <tr>\n",
       "      <th>duration</th>\n",
       "      <td>41188</td>\n",
       "      <td>258.2850101971448</td>\n",
       "      <td>259.2792488364655</td>\n",
       "      <td>0</td>\n",
       "      <td>4918</td>\n",
       "    </tr>\n",
       "    <tr>\n",
       "      <th>campaign</th>\n",
       "      <td>41188</td>\n",
       "      <td>2.567592502670681</td>\n",
       "      <td>2.770013542902322</td>\n",
       "      <td>1</td>\n",
       "      <td>56</td>\n",
       "    </tr>\n",
       "    <tr>\n",
       "      <th>pdays</th>\n",
       "      <td>41188</td>\n",
       "      <td>962.4754540157328</td>\n",
       "      <td>186.91090734474153</td>\n",
       "      <td>0</td>\n",
       "      <td>999</td>\n",
       "    </tr>\n",
       "    <tr>\n",
       "      <th>previous</th>\n",
       "      <td>41188</td>\n",
       "      <td>0.17296299893172767</td>\n",
       "      <td>0.49490107983929055</td>\n",
       "      <td>0</td>\n",
       "      <td>7</td>\n",
       "    </tr>\n",
       "  </tbody>\n",
       "</table>\n",
       "</div>"
      ],
      "text/plain": [
       "              0                    1                    2    3     4\n",
       "summary   count                 mean               stddev  min   max\n",
       "age       41188    40.02406040594348   10.421249980934045   17    98\n",
       "duration  41188    258.2850101971448    259.2792488364655    0  4918\n",
       "campaign  41188    2.567592502670681    2.770013542902322    1    56\n",
       "pdays     41188    962.4754540157328   186.91090734474153    0   999\n",
       "previous  41188  0.17296299893172767  0.49490107983929055    0     7"
      ]
     },
     "execution_count": 4,
     "metadata": {},
     "output_type": "execute_result"
    }
   ],
   "source": [
    "numeric_features=[t[0] for t in bankfinalDF.dtypes if t[1]=='int']\n",
    "bankfinalDF.select(numeric_features).describe().toPandas().transpose()"
   ]
  },
  {
   "cell_type": "markdown",
   "metadata": {},
   "source": [
    "                    Correlation between independent variables"
   ]
  },
  {
   "cell_type": "code",
   "execution_count": 5,
   "metadata": {},
   "outputs": [
    {
     "data": {
      "image/png": "[encoded data removed]",
      "text/plain": [
       "<matplotlib.figure.Figure at 0x7f467c970910>"
      ]
     },
     "metadata": {},
     "output_type": "display_data"
    }
   ],
   "source": [
    "numeric_data=bankfinalDF.select(numeric_features).toPandas()\n",
    "axs=pd.scatter_matrix(numeric_data,figsize=(8,8))\n",
    "n=len(numeric_data.columns)\n",
    "for i in range(n):\n",
    "    v = axs[i, 0]\n",
    "    v.yaxis.label.set_rotation(0)\n",
    "    v.yaxis.label.set_ha('right')\n",
    "    v.set_yticks(())\n",
    "    h = axs[n-1, i]\n",
    "    h.xaxis.label.set_rotation(90)\n",
    "    h.set_xticks(())"
   ]
  },
  {
   "cell_type": "markdown",
   "metadata": {},
   "source": [
    "                    Apply Logistic Regression to the dataset"
   ]
  },
  {
   "cell_type": "markdown",
   "metadata": {},
   "source": [
    "Create RFormula"
   ]
  },
  {
   "cell_type": "code",
   "execution_count": 6,
   "metadata": {
    "collapsed": true
   },
   "outputs": [],
   "source": [
    "supervised1 =RFormula(formula=\"termdepositIndx~personalloanIndx\")\n",
    "fittedRF1=supervised1.fit(bankfinalDF)\n",
    "preparedDF1=fittedRF1.transform(bankfinalDF)"
   ]
  },
  {
   "cell_type": "markdown",
   "metadata": {},
   "source": [
    "Randomly split the dataset as traindataset and testdataset"
   ]
  },
  {
   "cell_type": "code",
   "execution_count": 7,
   "metadata": {
    "collapsed": true
   },
   "outputs": [],
   "source": [
    "train1,test1=preparedDF1.randomSplit([0.7,0.3])"
   ]
  },
  {
   "cell_type": "markdown",
   "metadata": {},
   "source": [
    "Apply the Logistic Regression to the traindataset and calculate the accuracy for the traindataset"
   ]
  },
  {
   "cell_type": "code",
   "execution_count": 8,
   "metadata": {},
   "outputs": [
    {
     "name": "stdout",
     "output_type": "stream",
     "text": [
      "Totaltraindata:28831\n",
      "missmatchdata :3236\n",
      "TrainAccuracy :88.7759703097\n"
     ]
    }
   ],
   "source": [
    "lr=LogisticRegression(labelCol=\"label\",featuresCol=\"features\",maxIter=10)\n",
    "fittedlr1=lr.fit(train1)\n",
    "trainmatch1=fittedlr1.transform(train1).select(\"label\",\"prediction\").where(\"label==prediction\").count()\n",
    "totaltrain1=fittedlr1.transform(train1).select(\"label\",\"prediction\").count()\n",
    "trainmismatch1=totaltrain1-trainmatch1\n",
    "accuracytrain1=(1.*trainmatch1/totaltrain1)*100\n",
    "print(\"Totaltraindata:\"+str(totaltrain1))\n",
    "print(\"missmatchdata :\"+str(trainmismatch1))\n",
    "print(\"TrainAccuracy :\"+ str(accuracytrain1))"
   ]
  },
  {
   "cell_type": "markdown",
   "metadata": {},
   "source": [
    "Apply the Logistic Regression to the testdataset and calculate the accuracy for the testdataset"
   ]
  },
  {
   "cell_type": "code",
   "execution_count": 9,
   "metadata": {},
   "outputs": [
    {
     "name": "stdout",
     "output_type": "stream",
     "text": [
      "Totaltestdata :12357\n",
      "missmatchdata :1404\n",
      "TestAccuracy  :88.6380189366\n"
     ]
    }
   ],
   "source": [
    "testmatch1=fittedlr1.transform(test1).select(\"label\",\"prediction\").where(\"label==prediction\").count()\n",
    "totaltest1=fittedlr1.transform(test1).select(\"label\",\"prediction\").count()\n",
    "testmismatch1=totaltest1-testmatch1\n",
    "accuracytest1=(1.*testmatch1/totaltest1)*100\n",
    "print(\"Totaltestdata :\"+str(totaltest1))\n",
    "print(\"missmatchdata :\"+str(testmismatch1))\n",
    "print(\"TestAccuracy  :\"+ str(accuracytest1))"
   ]
  },
  {
   "cell_type": "markdown",
   "metadata": {},
   "source": [
    "Create RFormula"
   ]
  },
  {
   "cell_type": "code",
   "execution_count": 10,
   "metadata": {
    "collapsed": true
   },
   "outputs": [],
   "source": [
    "supervised2 =RFormula(formula=\"personalloanIndx~defaultIndx+termdepositIndx\")\n",
    "fittedRF2=supervised2.fit(bankfinalDF)\n",
    "preparedDF2=fittedRF2.transform(bankfinalDF)"
   ]
  },
  {
   "cell_type": "markdown",
   "metadata": {},
   "source": [
    "Randomly split the dataset as traindataset and testdataset"
   ]
  },
  {
   "cell_type": "code",
   "execution_count": 11,
   "metadata": {
    "collapsed": true
   },
   "outputs": [],
   "source": [
    "train2,test2=preparedDF2.randomSplit([0.7,0.3])"
   ]
  },
  {
   "cell_type": "markdown",
   "metadata": {},
   "source": [
    "Apply the Logistic Regression to the traindataset and calculate the accuracy for the traindataset"
   ]
  },
  {
   "cell_type": "code",
   "execution_count": 12,
   "metadata": {},
   "outputs": [
    {
     "name": "stdout",
     "output_type": "stream",
     "text": [
      "Totaltraindata:28797\n",
      "missmatchdata :5108\n",
      "TrainAccuracy :82.2620411848\n"
     ]
    }
   ],
   "source": [
    "lr=LogisticRegression()\n",
    "fittedlr2=lr.fit(train2)\n",
    "trainmatch2=fittedlr2.transform(train2).select(\"label\",\"prediction\").where(\"label==prediction\").count()\n",
    "totaltrain2=fittedlr2.transform(train2).select(\"label\",\"prediction\").count()\n",
    "trainmismatch2=totaltrain2-trainmatch2\n",
    "accuracytrain2=(1.*trainmatch2/totaltrain2)*100\n",
    "print(\"Totaltraindata:\"+str(totaltrain2))\n",
    "print(\"missmatchdata :\"+str(trainmismatch2))\n",
    "print(\"TrainAccuracy :\"+ str(accuracytrain2))"
   ]
  },
  {
   "cell_type": "markdown",
   "metadata": {},
   "source": [
    "Apply the Logistic Regression to the testdataset and calculate the accuracy for the testdataset"
   ]
  },
  {
   "cell_type": "code",
   "execution_count": 13,
   "metadata": {},
   "outputs": [
    {
     "name": "stdout",
     "output_type": "stream",
     "text": [
      "Totaltestdata :12391\n",
      "missmatchdata :2130\n",
      "TestAccuracy  :82.8101041078\n"
     ]
    }
   ],
   "source": [
    "testmatch2=fittedlr2.transform(test2).select(\"label\",\"prediction\").where(\"label==prediction\").count()\n",
    "totaltest2=fittedlr2.transform(test2).select(\"label\",\"prediction\").count()\n",
    "testmismatch2=totaltest2-testmatch2\n",
    "accuracytest2=(1.*testmatch2/totaltest2)*100\n",
    "print(\"Totaltestdata :\"+str(totaltest2))\n",
    "print(\"missmatchdata :\"+str(testmismatch2))\n",
    "print(\"TestAccuracy  :\"+ str(accuracytest2))"
   ]
  }
 ],
 "metadata": {
  "kernelspec": {
   "display_name": "Python 3",
   "language": "python",
   "name": "python3"
  },
  "language_info": {
   "codemirror_mode": {
    "name": "ipython",
    "version": 3
   },
   "file_extension": ".py",
   "mimetype": "text/x-python",
   "name": "python",
   "nbconvert_exporter": "python",
   "pygments_lexer": "ipython3",
   "version": "3.6.6"
  }
 },
 "nbformat": 4,
 "nbformat_minor": 2
}
