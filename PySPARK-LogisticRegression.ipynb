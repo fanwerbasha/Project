{
 "cells": [
  {
   "cell_type": "markdown",
   "metadata": {},
   "source": [
    "                        # Logistic Regression -PYSPARK  "
   ]
  },
  {
   "cell_type": "markdown",
   "metadata": {},
   "source": [
    "block_5 and block_6 .csv files are used"
   ]
  },
  {
   "cell_type": "code",
   "execution_count": 1,
   "metadata": {},
   "outputs": [
    {
     "name": "stdout",
     "output_type": "stream",
     "text": [
      "/home/farjana/Data/block_5.csv\n",
      "/home/farjana/Data/block_6.csv\n"
     ]
    }
   ],
   "source": [
    "filename1=\"/home/farjana/Data/block_5.csv\"\n",
    "filename2=\"/home/farjana/Data/block_6.csv\"\n",
    "\n",
    "print(filename1)\n",
    "print(filename2)"
   ]
  },
  {
   "cell_type": "code",
   "execution_count": 2,
   "metadata": {},
   "outputs": [
    {
     "name": "stdout",
     "output_type": "stream",
     "text": [
      "574914\n",
      "574914\n"
     ]
    }
   ],
   "source": [
    "df1=spark.read.format(\"csv\")\\\n",
    ".option(\"header\",\"true\")\\\n",
    ".option(\"inferSchema\",\"true\")\\\n",
    ".load(filename1)\n",
    "df2=spark.read.format(\"csv\")\\\n",
    ".option(\"header\",\"true\")\\\n",
    ".option(\"inferSchema\",\"true\")\\\n",
    ".load(filename2)\n",
    "print(df1.count())\n",
    "print(df2.count())"
   ]
  },
  {
   "cell_type": "markdown",
   "metadata": {},
   "source": [
    "Combined the two dataframes"
   ]
  },
  {
   "cell_type": "code",
   "execution_count": 3,
   "metadata": {},
   "outputs": [
    {
     "name": "stdout",
     "output_type": "stream",
     "text": [
      "1149828\n"
     ]
    }
   ],
   "source": [
    "combinedDF=df1.union(df2)\n",
    "print(combinedDF.count())"
   ]
  },
  {
   "cell_type": "markdown",
   "metadata": {},
   "source": [
    "Created RFormula for question1"
   ]
  },
  {
   "cell_type": "code",
   "execution_count": 4,
   "metadata": {},
   "outputs": [
    {
     "name": "stdout",
     "output_type": "stream",
     "text": [
      "+-----+-----+------------+------------+------------+------------+-------+------+------+------+-------+--------+--------------------+-----+\n",
      "| id_1| id_2|cmp_fname_c1|cmp_fname_c2|cmp_lname_c1|cmp_lname_c2|cmp_sex|cmp_bd|cmp_bm|cmp_by|cmp_plz|is_match|            features|label|\n",
      "+-----+-----+------------+------------+------------+------------+-------+------+------+------+-------+--------+--------------------+-----+\n",
      "|31641|62703|           1|           ?|         1.0|           ?|      1|     1|     1|     1|      1|    true|(114,[0,1,2,49,75...|  1.0|\n",
      "|27816|46246|           1|           ?|         1.0|           ?|      1|     1|     1|     1|      1|    true|(114,[0,1,2,49,75...|  1.0|\n",
      "|  980| 2651|           1|           ?|         1.0|           ?|      1|     1|     1|     1|      1|    true|(114,[0,1,2,49,75...|  1.0|\n",
      "| 6514| 8780|           1|           ?|         1.0|           ?|      1|     1|     1|     1|      1|    true|(114,[0,1,2,49,75...|  1.0|\n",
      "| 5532|14374|           1|           ?|         1.0|           ?|      1|     1|     1|     1|      1|    true|(114,[0,1,2,49,75...|  1.0|\n",
      "|25763|61342|           1|           ?|         1.0|           ?|      1|     1|     1|     1|      1|    true|(114,[0,1,2,49,75...|  1.0|\n",
      "|59655|59657|           1|           ?|         1.0|           ?|      1|     1|     1|     1|      1|    true|(114,[0,1,2,49,75...|  1.0|\n",
      "|23800|32179|           1|           ?|         1.0|           ?|      1|     1|     1|     1|      1|    true|(114,[0,1,2,49,75...|  1.0|\n",
      "|33568|38196|           1|           ?|         1.0|           ?|      1|     1|     1|     1|      1|    true|(114,[0,1,2,49,75...|  1.0|\n",
      "|95679|95680|           1|           ?|         1.0|           ?|      1|     1|     1|     1|      1|    true|(114,[0,1,2,49,75...|  1.0|\n",
      "|23729|60864|           1|           1|         1.0|           1|      1|     1|     1|     1|      1|    true|(114,[0,1,2,50,75...|  1.0|\n",
      "|21573|36660|           1|           ?|         1.0|           ?|      1|     1|     1|     1|      1|    true|(114,[0,1,2,49,75...|  1.0|\n",
      "|26251|40278|           1|           ?|         1.0|           ?|      1|     1|     1|     1|      1|    true|(114,[0,1,2,49,75...|  1.0|\n",
      "|77101|77106|           1|           ?|         1.0|           1|      1|     1|     1|     1|      1|    true|(114,[0,1,2,49,75...|  1.0|\n",
      "|44816|87744|           1|           ?|         1.0|           ?|      1|     1|     1|     1|      1|    true|(114,[0,1,2,49,75...|  1.0|\n",
      "|17156|49320|           1|           ?|         1.0|           ?|      1|     1|     1|     1|      1|    true|(114,[0,1,2,49,75...|  1.0|\n",
      "|20166|37894|           1|           ?|         1.0|           ?|      1|     1|     1|     1|      1|    true|(114,[0,1,2,49,75...|  1.0|\n",
      "|28894|34446|           1|           ?|         1.0|           ?|      1|     1|     1|     1|      1|    true|(114,[0,1,2,49,75...|  1.0|\n",
      "|95236|95834|           1|           ?|         1.0|           ?|      1|     1|     1|     1|      1|    true|(114,[0,1,2,49,75...|  1.0|\n",
      "|37609|68906|           1|           ?|         1.0|           ?|      1|     1|     1|     1|      1|    true|(114,[0,1,2,49,75...|  1.0|\n",
      "+-----+-----+------------+------------+------------+------------+-------+------+------+------+-------+--------+--------------------+-----+\n",
      "only showing top 20 rows\n",
      "\n"
     ]
    }
   ],
   "source": [
    "from pyspark.ml.feature import RFormula\n",
    "supervised1 =RFormula(formula=\"is_match ~id_1+id_2+cmp_fname_c1+cmp_fname_c2+cmp_lname_c1+\\\n",
    "                     cmp_lname_c2+cmp_sex+cmp_bd+cmp_bm+cmp_by+cmp_plz\")\n",
    "fittedRF=supervised1.fit(combinedDF)\n",
    "preparedDF=fittedRF.transform(combinedDF)\n",
    "preparedDF.show()"
   ]
  },
  {
   "cell_type": "markdown",
   "metadata": {},
   "source": [
    "created train, test datasets and applied the logistic regression - train and test datasets\n"
   ]
  },
  {
   "cell_type": "code",
   "execution_count": 5,
   "metadata": {
    "collapsed": true
   },
   "outputs": [],
   "source": [
    "train,test=preparedDF.randomSplit([0.7,0.3])\n",
    "from pyspark.ml.classification import LogisticRegression\n",
    "lr=LogisticRegression(labelCol=\"label\",featuresCol=\"features\")\n",
    "fittedLR=lr.fit(train)"
   ]
  },
  {
   "cell_type": "code",
   "execution_count": 6,
   "metadata": {},
   "outputs": [],
   "source": [
    "trainmatch=fittedLR.transform(train).select(\"label\",\"prediction\").where(\"label==prediction\").count()\n",
    "totaltrain=fittedLR.transform(train).select(\"label\",\"prediction\").count()"
   ]
  },
  {
   "cell_type": "code",
   "execution_count": 7,
   "metadata": {},
   "outputs": [
    {
     "name": "stdout",
     "output_type": "stream",
     "text": [
      "7\n",
      "99.9991312097\n"
     ]
    }
   ],
   "source": [
    "trainmismatch=totaltrain-trainmatch\n",
    "accuracytrain=(1.*trainmatch/totaltrain)*100\n",
    "print(trainmismatch)\n",
    "print(accuracytrain)"
   ]
  },
  {
   "cell_type": "markdown",
   "metadata": {},
   "source": [
    "The train dataset contains only 10 mismatch data and 99.998 accuracy."
   ]
  },
  {
   "cell_type": "code",
   "execution_count": 8,
   "metadata": {},
   "outputs": [],
   "source": [
    "testmatch=fittedLR.transform(test).select(\"label\",\"prediction\").where(\"label==prediction\").count()\n",
    "totaltest=fittedLR.transform(test).select(\"label\",\"prediction\").count()"
   ]
  },
  {
   "cell_type": "code",
   "execution_count": 9,
   "metadata": {},
   "outputs": [
    {
     "name": "stdout",
     "output_type": "stream",
     "text": [
      "6\n",
      "99.9982563715\n"
     ]
    }
   ],
   "source": [
    "testmismatch=totaltest-testmatch\n",
    "accuracytest=(1.*testmatch/totaltest)*100\n",
    "print(testmismatch)\n",
    "print(accuracytest)"
   ]
  },
  {
   "cell_type": "markdown",
   "metadata": {},
   "source": [
    "The test dataset contains only 9 mismatch data and 99.997 accuracy"
   ]
  },
  {
   "cell_type": "markdown",
   "metadata": {},
   "source": [
    "Created RFormula for question2\n",
    "created train, test datasets "
   ]
  },
  {
   "cell_type": "code",
   "execution_count": 10,
   "metadata": {
    "collapsed": true
   },
   "outputs": [],
   "source": [
    "supervised2 =RFormula(formula=\"is_match ~cmp_bd+cmp_bm+cmp_by\")\n",
    "fittedRF2=supervised2.fit(combinedDF)\n",
    "preparedDF2=fittedRF2.transform(combinedDF)\n",
    "train,test=preparedDF2.randomSplit([0.7,0.3])\n",
    "fittedLR2=lr.fit(train)"
   ]
  },
  {
   "cell_type": "markdown",
   "metadata": {},
   "source": [
    "Applied the logistic regression - train and test datasets"
   ]
  },
  {
   "cell_type": "code",
   "execution_count": 11,
   "metadata": {},
   "outputs": [],
   "source": [
    "trainmatch=fittedLR2.transform(train).select(\"label\",\"prediction\").where(\"label==prediction\").count()\n",
    "totaltrain=fittedLR2.transform(train).select(\"label\",\"prediction\").count()"
   ]
  },
  {
   "cell_type": "code",
   "execution_count": 12,
   "metadata": {},
   "outputs": [
    {
     "name": "stdout",
     "output_type": "stream",
     "text": [
      "2921\n",
      "99.6368622712\n"
     ]
    }
   ],
   "source": [
    "trainmismatch=totaltrain-trainmatch\n",
    "accuracytrain=(1.*trainmatch/totaltrain)*100\n",
    "print(trainmismatch)\n",
    "print(accuracytrain)"
   ]
  },
  {
   "cell_type": "markdown",
   "metadata": {},
   "source": [
    "The train dataset contains 2917 mismatch data and 99.6371 accuracy."
   ]
  },
  {
   "cell_type": "code",
   "execution_count": 13,
   "metadata": {},
   "outputs": [],
   "source": [
    "testmatch=fittedLR2.transform(test).select(\"label\",\"prediction\").where(\"label==prediction\").count()\n",
    "totaltest=fittedLR2.transform(test).select(\"label\",\"prediction\").count()"
   ]
  },
  {
   "cell_type": "code",
   "execution_count": 14,
   "metadata": {},
   "outputs": [
    {
     "name": "stdout",
     "output_type": "stream",
     "text": [
      "1266\n",
      "99.6335214937\n"
     ]
    }
   ],
   "source": [
    "testmismatch=totaltest-testmatch\n",
    "accuracytest=(1.*testmatch/totaltest)*100\n",
    "print(testmismatch)\n",
    "print(accuracytest)"
   ]
  },
  {
   "cell_type": "markdown",
   "metadata": {},
   "source": [
    "The test dataset contains 1270 mismatch data and 99.6328 accuracy"
   ]
  },
  {
   "cell_type": "markdown",
   "metadata": {},
   "source": [
    "Created RFormula for question3\n",
    "created train, test datasets "
   ]
  },
  {
   "cell_type": "code",
   "execution_count": 15,
   "metadata": {
    "collapsed": true
   },
   "outputs": [],
   "source": [
    "supervised3 =RFormula(formula=\"is_match ~cmp_fname_c1+cmp_fname_c2+cmp_lname_c1+cmp_lname_c2\")\n",
    "fittedRF3=supervised3.fit(combinedDF)\n",
    "preparedDF3=fittedRF3.transform(combinedDF)\n",
    "train,test=preparedDF3.randomSplit([0.7,0.3])\n",
    "fittedLR3=lr.fit(train)"
   ]
  },
  {
   "cell_type": "markdown",
   "metadata": {},
   "source": [
    "Applied the logistic regression - train and test datasets"
   ]
  },
  {
   "cell_type": "code",
   "execution_count": 16,
   "metadata": {},
   "outputs": [],
   "source": [
    "trainmatch=fittedLR3.transform(train).select(\"label\",\"prediction\").where(\"label==prediction\").count()\n",
    "totaltrain=fittedLR3.transform(train).select(\"label\",\"prediction\").count()"
   ]
  },
  {
   "cell_type": "code",
   "execution_count": 17,
   "metadata": {},
   "outputs": [
    {
     "name": "stdout",
     "output_type": "stream",
     "text": [
      "1335\n",
      "99.8340652279\n"
     ]
    }
   ],
   "source": [
    "trainmismatch=totaltrain-trainmatch\n",
    "accuracytrain=(1.*trainmatch/totaltrain)*100\n",
    "print(trainmismatch)\n",
    "print(accuracytrain)"
   ]
  },
  {
   "cell_type": "markdown",
   "metadata": {},
   "source": [
    "The train dataset contains 1336 mismatch data and 99.8340 accuracy."
   ]
  },
  {
   "cell_type": "code",
   "execution_count": 18,
   "metadata": {},
   "outputs": [],
   "source": [
    "testmatch=fittedLR3.transform(test).select(\"label\",\"prediction\").where(\"label==prediction\").count()\n",
    "totaltest=fittedLR3.transform(test).select(\"label\",\"prediction\").count()"
   ]
  },
  {
   "cell_type": "code",
   "execution_count": 19,
   "metadata": {},
   "outputs": [
    {
     "name": "stdout",
     "output_type": "stream",
     "text": [
      "615\n",
      "99.8218914262\n"
     ]
    }
   ],
   "source": [
    "testmismatch=totaltest-testmatch\n",
    "accuracytest=(1.*testmatch/totaltest)*100\n",
    "print(testmismatch)\n",
    "print(accuracytest)"
   ]
  },
  {
   "cell_type": "markdown",
   "metadata": {},
   "source": [
    "The test dataset contains 606 mismatch data and 99.8242 accuracy"
   ]
  },
  {
   "cell_type": "markdown",
   "metadata": {},
   "source": [
    "Overall accuracy is high for question 1 that contains all the fields in the classifier."
   ]
  }
 ],
 "metadata": {
  "kernelspec": {
   "display_name": "Python 3",
   "language": "python",
   "name": "python3"
  },
  "language_info": {
   "codemirror_mode": {
    "name": "ipython",
    "version": 3
   },
   "file_extension": ".py",
   "mimetype": "text/x-python",
   "name": "python",
   "nbconvert_exporter": "python",
   "pygments_lexer": "ipython3",
   "version": "3.6.6"
  }
 },
 "nbformat": 4,
 "nbformat_minor": 2
}
